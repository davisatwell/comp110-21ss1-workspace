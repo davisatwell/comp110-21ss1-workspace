{
 "cells": [
  {
   "cell_type": "code",
   "execution_count": null,
   "metadata": {},
   "outputs": [],
   "source": [
    "import pandas as pd\n",
    "\n"
   ]
  }
 ],
 "metadata": {
  "kernelspec": {
   "display_name": "Python 3.9.5 64-bit ('3.9')",
   "name": "python395jvsc74a57bd0e7a26f5bebd1b9da0f051359361ac514eb1c970e7ede8197699eeb788ac44870"
  },
  "language_info": {
   "name": "python",
   "version": ""
  },
  "metadata": {
   "interpreter": {
    "hash": "e7a26f5bebd1b9da0f051359361ac514eb1c970e7ede8197699eeb788ac44870"
   }
  },
  "orig_nbformat": 2
 },
 "nbformat": 4,
 "nbformat_minor": 2
}